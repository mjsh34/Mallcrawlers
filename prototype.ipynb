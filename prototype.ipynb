{
 "cells": [
  {
   "cell_type": "code",
   "execution_count": 40,
   "id": "174919ba-6a65-4c20-b8f0-62845c3a9824",
   "metadata": {},
   "outputs": [],
   "source": [
    "import requests\n",
    "from bs4 import BeautifulSoup"
   ]
  },
  {
   "cell_type": "code",
   "execution_count": 41,
   "id": "3bf0e78b-e8be-4a45-8190-c06b215e467f",
   "metadata": {},
   "outputs": [],
   "source": [
    "import json\n",
    "import re"
   ]
  },
  {
   "cell_type": "code",
   "execution_count": null,
   "id": "e4dfbd39-707d-43bb-9dd6-78b1d9bcd010",
   "metadata": {},
   "outputs": [],
   "source": []
  },
  {
   "cell_type": "code",
   "execution_count": 42,
   "id": "dc9f1722-d365-4836-b775-e0b61b7feb1e",
   "metadata": {},
   "outputs": [],
   "source": [
    "USER_AGENT = \"Mozilla/5.0 (Windows NT 10.0; Win64; x64) AppleWebKit/537.36 (KHTML, like Gecko) Chrome/123.0.0.0 Safari/537.36\""
   ]
  },
  {
   "cell_type": "markdown",
   "id": "ea70eca7-8ad9-4669-9c8b-b7cfa8071b24",
   "metadata": {},
   "source": [
    "## List, list item brief"
   ]
  },
  {
   "cell_type": "code",
   "execution_count": 4,
   "id": "11c996bf-eb29-4caa-b4ac-0bd4337bc95b",
   "metadata": {},
   "outputs": [],
   "source": [
    "top_pg2_url = \"https://www.musinsa.com/categories/item/001?d_cat_cd=001&brand=&list_kind=small&sort=pop_category&sub_sort=&page=2&display_cnt=90&exclusive_yn=&sale_goods=&timesale_yn=&ex_soldout=&plusDeliveryYn=&kids=&color=&price1=&price2=&shoeSizeOption=&tags=&campaign_id=&includeKeywords=&measure=\"\n",
    "top_pg10_bypriceh_url = \"https://www.musinsa.com/categories/item/001?d_cat_cd=001&brand=&list_kind=small&sort=price_high&sub_sort=&page=1&display_cnt=90&exclusive_yn=&sale_goods=&timesale_yn=&ex_soldout=&plusDeliveryYn=&kids=&color=&price1=&price2=&shoeSizeOption=&tags=&campaign_id=&includeKeywords=&measure=\"\n",
    "\n",
    "top_pg10 = requests.get(top_pg10_bypriceh_url)\n",
    "top_pg10_content = top_pg10.content.decode('utf-8')\n",
    "\n",
    "# scrape by category (상의 Top > 스포츠 상의 etc.) or combined (상의 Top > 전체)"
   ]
  },
  {
   "cell_type": "code",
   "execution_count": 5,
   "id": "0fe6239b-b9ba-4f51-a41b-6debfaf87187",
   "metadata": {},
   "outputs": [],
   "source": [
    "top_pg10_soup = BeautifulSoup(top_pg10_content, 'html.parser')\n",
    "items = top_pg10_soup.select(\"ul#searchList > li\")"
   ]
  },
  {
   "cell_type": "code",
   "execution_count": 6,
   "id": "12194a91-7cbb-424c-9249-f05890666e35",
   "metadata": {},
   "outputs": [
    {
     "name": "stdout",
     "output_type": "stream",
     "text": [
      "90\n",
      "{\n",
      "  \"data_no\": \"3844114\",\n",
      "  \"brand\": \"메종 마르지엘라\",\n",
      "  \"brand_url\": \"//www.musinsa.com/brands/maisonmargiela\",\n",
      "  \"item_name\": \"여성 요크 롱 셔츠 - 옵틱 화이트 / S51DT0014S43001100\",\n",
      "  \"item_url\": \"//www.musinsa.com/app/goods/3844114\",\n",
      "  \"price\": \"2,093,000원\"\n",
      "}\n"
     ]
    }
   ],
   "source": [
    "print(len(items))\n",
    "itm = items[0]\n",
    "#print(itm)\n",
    "d = {}\n",
    "\n",
    "d['data_no'] = itm['data-no']\n",
    "ai = itm.select_one(\".article_info\")\n",
    "d['brand'] = ai.select_one(\".item_title\").text\n",
    "d['brand_url'] = ai.select_one(\".item_title > a[href]\")['href']\n",
    "d['item_name'] = ai.select_one(\".list_info > [name=goods_link][title]\")['title']\n",
    "d['item_url'] = ai.select_one(\".list_info > [name=goods_link][href]\")['href']\n",
    "d['price'] = ai.select_one(\".price\").text.strip()\n",
    "#d['likes'] = str(ai.select_one(\".txt_cnt_like\"))\n",
    "\n",
    "print(json.dumps(d, indent=2, ensure_ascii=False))"
   ]
  },
  {
   "cell_type": "code",
   "execution_count": 7,
   "id": "33526348-4361-49ef-a395-28ad94935ffd",
   "metadata": {},
   "outputs": [
    {
     "name": "stdout",
     "output_type": "stream",
     "text": [
      "2862\n"
     ]
    }
   ],
   "source": [
    "n_total_pages = int(getattr(top_pg10_soup.select_one('.page_items_lists .section_container_list .totalPagingNum'), 'text') or \"-9999\")\n",
    "print(n_total_pages)"
   ]
  },
  {
   "cell_type": "code",
   "execution_count": null,
   "id": "aea3d3be-313f-478d-965d-e71d6b49906e",
   "metadata": {},
   "outputs": [],
   "source": []
  },
  {
   "cell_type": "markdown",
   "id": "e3c7007f-de9c-435b-a02a-2686711a0927",
   "metadata": {},
   "source": [
    "## Item details"
   ]
  },
  {
   "cell_type": "code",
   "execution_count": 30,
   "id": "dcfb60cf-3644-4347-b401-f6eac043b87e",
   "metadata": {},
   "outputs": [
    {
     "name": "stdout",
     "output_type": "stream",
     "text": [
      "essential={'data': [{'name': '제품 소재', 'value': 'KNITTED', 'seq': 1}, {'name': '색상', 'value': 'DARK NAVY', 'seq': 2}, {'name': '치수', 'value': 'M / L / XL', 'seq': 3}, {'name': '제조사', 'value': '성주디앤디', 'seq': 4}, {'name': '제조국', 'value': '대한민국', 'seq': 5}, {'name': '세탁방법 ∙ 취급시 주의사항', 'value': '손세탁 표백, 마찰, 불림 금지. 건조기 사용 금지 마찰에 의해 자연스럽게 보풀이 발생할 수 있습니다', 'seq': 6}, {'name': '제조연월', 'value': '2023년 4월', 'seq': 7}, {'name': '품질보증기준', 'value': '관련법 및 소비자 분쟁해결 기준에 따름', 'seq': 8}, {'name': 'A/S책임자 ∙ 전화번호', 'value': 'MCM  온라인 수선접수 고객센터 1600-1976', 'seq': 9}]}\n",
      "essential={'data': [{'name': '제품 소재', 'value': '상세페이지 참조', 'seq': 1}, {'name': '색상', 'value': '상세페이지 참조', 'seq': 2}, {'name': '치수', 'value': '상세페이지 참조', 'seq': 3}, {'name': '제조사', 'value': '비케이브', 'seq': 4}, {'name': '제조국', 'value': '베트남', 'seq': 5}, {'name': '세탁방법 ∙ 취급시 주의사항', 'value': '상세페이지 참조', 'seq': 6}, {'name': '제조연월', 'value': '2023.04', 'seq': 7}, {'name': '품질보증기준', 'value': '상세페이지 참조', 'seq': 8}, {'name': 'A/S책임자 ∙ 전화번호', 'value': '진수원 02-338-3316', 'seq': 9}]}\n"
     ]
    }
   ],
   "source": [
    "essential_url = \"https://goods-detail.musinsa.com/goods/3748692/essential\"\n",
    "essential = requests.get(essential_url).content.decode('utf-8')\n",
    "essential = json.loads(essential)\n",
    "print(f\"{essential=}\")\n",
    "\n",
    "essential_url = \"https://goods-detail.musinsa.com/goods/3932869/essential\"\n",
    "essential = requests.get(essential_url).content.decode('utf-8')\n",
    "essential = json.loads(essential)\n",
    "print(f\"{essential=}\")\n"
   ]
  },
  {
   "cell_type": "code",
   "execution_count": 31,
   "id": "1154caf0-eb33-42ef-87cf-2c9982cd72f3",
   "metadata": {},
   "outputs": [
    {
     "name": "stdout",
     "output_type": "stream",
     "text": [
      "actual_size={}\n",
      "actual_size={\n",
      "  \"data\": {\n",
      "    \"typeName\": \"반소매티셔츠\",\n",
      "    \"typeNumber\": 5,\n",
      "    \"description\": \"측정 방법에 따라 약 2cm 정도의 오차가 있을 수 있습니다.\",\n",
      "    \"mobileImage\": \"//image.musinsa.com/images/size_type/m_detail_img/2023122609382800000023956.png\",\n",
      "    \"webImage\": \"//image.musinsa.com/images/size_type/detail_img/2023122609381800000071868.png\",\n",
      "    \"sizes\": [\n",
      "      {\n",
      "        \"name\": \"XS\",\n",
      "        \"items\": [\n",
      "          {\n",
      "            \"name\": \"총장\",\n",
      "            \"value\": 55.0,\n",
      "            \"recommendSizeRange\": 5\n",
      "          },\n",
      "          {\n",
      "            \"name\": \"어깨너비\",\n",
      "            \"value\": 37.0,\n",
      "            \"recommendSizeRange\": 5\n",
      "          },\n",
      "          {\n",
      "            \"name\": \"가슴단면\",\n",
      "            \"value\": 45.5,\n",
      "            \"recommendSizeRange\": 5\n",
      "          },\n",
      "          {\n",
      "            \"name\": \"소매길이\",\n",
      "            \"value\": 18.0,\n",
      "            \"recommendSizeRange\": 5\n",
      "          }\n",
      "        ]\n",
      "      },\n",
      "      {\n",
      "        \"name\": \"S\",\n",
      "        \"items\": [\n",
      "          {\n",
      "            \"name\": \"총장\",\n",
      "            \"value\": 67.0,\n",
      "            \"recommendSizeRange\": 5\n",
      "          },\n",
      "          {\n",
      "            \"name\": \"어깨너비\",\n",
      "            \"value\": 51.0,\n",
      "            \"recommendSizeRange\": 5\n",
      "          },\n",
      "          {\n",
      "            \"name\": \"가슴단면\",\n",
      "            \"value\": 54.0,\n",
      "            \"recommendSizeRange\": 5\n",
      "          },\n",
      "          {\n",
      "            \"name\": \"소매길이\",\n",
      "            \"value\": 20.0,\n",
      "            \"recommendSizeRange\": 5\n",
      "          }\n",
      "        ]\n",
      "      },\n",
      "      {\n",
      "        \"name\": \"M\",\n",
      "        \"items\": [\n",
      "          {\n",
      "            \"name\": \"총장\",\n",
      "            \"value\": 69.0,\n",
      "            \"recommendSizeRange\": 5\n",
      "          },\n",
      "          {\n",
      "            \"name\": \"어깨너비\",\n",
      "            \"value\": 53.0,\n",
      "            \"recommendSizeRange\": 5\n",
      "          },\n",
      "          {\n",
      "            \"name\": \"가슴단면\",\n",
      "            \"value\": 56.0,\n",
      "            \"recommendSizeRange\": 5\n",
      "          },\n",
      "          {\n",
      "            \"name\": \"소매길이\",\n",
      "            \"value\": 21.0,\n",
      "            \"recommendSizeRange\": 5\n",
      "          }\n",
      "        ]\n",
      "      },\n",
      "      {\n",
      "        \"name\": \"L\",\n",
      "        \"items\": [\n",
      "          {\n",
      "            \"name\": \"총장\",\n",
      "            \"value\": 71.0,\n",
      "            \"recommendSizeRange\": 5\n",
      "          },\n",
      "          {\n",
      "            \"name\": \"어깨너비\",\n",
      "            \"value\": 55.0,\n",
      "            \"recommendSizeRange\": 5\n",
      "          },\n",
      "          {\n",
      "            \"name\": \"가슴단면\",\n",
      "            \"value\": 58.0,\n",
      "            \"recommendSizeRange\": 5\n",
      "          },\n",
      "          {\n",
      "            \"name\": \"소매길이\",\n",
      "            \"value\": 22.0,\n",
      "            \"recommendSizeRange\": 5\n",
      "          }\n",
      "        ]\n",
      "      },\n",
      "      {\n",
      "        \"name\": \"XL\",\n",
      "        \"items\": [\n",
      "          {\n",
      "            \"name\": \"총장\",\n",
      "            \"value\": 73.0,\n",
      "            \"recommendSizeRange\": 5\n",
      "          },\n",
      "          {\n",
      "            \"name\": \"어깨너비\",\n",
      "            \"value\": 57.0,\n",
      "            \"recommendSizeRange\": 5\n",
      "          },\n",
      "          {\n",
      "            \"name\": \"가슴단면\",\n",
      "            \"value\": 60.0,\n",
      "            \"recommendSizeRange\": 5\n",
      "          },\n",
      "          {\n",
      "            \"name\": \"소매길이\",\n",
      "            \"value\": 23.0,\n",
      "            \"recommendSizeRange\": 5\n",
      "          }\n",
      "        ]\n",
      "      },\n",
      "      {\n",
      "        \"name\": \"XXL\",\n",
      "        \"items\": [\n",
      "          {\n",
      "            \"name\": \"총장\",\n",
      "            \"value\": 75.0,\n",
      "            \"recommendSizeRange\": 5\n",
      "          },\n",
      "          {\n",
      "            \"name\": \"어깨너비\",\n",
      "            \"value\": 59.0,\n",
      "            \"recommendSizeRange\": 5\n",
      "          },\n",
      "          {\n",
      "            \"name\": \"가슴단면\",\n",
      "            \"value\": 62.0,\n",
      "            \"recommendSizeRange\": 5\n",
      "          },\n",
      "          {\n",
      "            \"name\": \"소매길이\",\n",
      "            \"value\": 24.0,\n",
      "            \"recommendSizeRange\": 5\n",
      "          }\n",
      "        ]\n",
      "      }\n",
      "    ],\n",
      "    \"mySize\": []\n",
      "  }\n",
      "}\n"
     ]
    }
   ],
   "source": [
    "actual_size_url = \"https://goods-detail.musinsa.com/goods/3748692/actual-size\"\n",
    "actual_size = requests.get(actual_size_url).content.decode('utf-8')\n",
    "actual_size = json.loads(actual_size)\n",
    "print(f\"{actual_size=}\")\n",
    "\n",
    "actual_size_url = \"https://goods-detail.musinsa.com/goods/3932869/actual-size\"\n",
    "actual_size = requests.get(actual_size_url).content.decode('utf-8')\n",
    "actual_size = json.loads(actual_size)\n",
    "print(f\"actual_size={json.dumps(actual_size, ensure_ascii=False, indent=2)}\")"
   ]
  },
  {
   "cell_type": "code",
   "execution_count": 32,
   "id": "d5fc6525-2c6d-4859-99ee-7a0449d5786d",
   "metadata": {},
   "outputs": [],
   "source": [
    "item_html_url = 'https://www.musinsa.com/app/goods/3932869'\n",
    "item_html_content = requests.get(item_html_url, headers={'User-Agent': USER_AGENT}).content.decode('utf-8')"
   ]
  },
  {
   "cell_type": "code",
   "execution_count": 36,
   "id": "2f58e6b0-87ba-4f1b-b550-35c47a314071",
   "metadata": {},
   "outputs": [
    {
     "data": {
      "text/plain": [
       "<re.Match object; span=(0, 2500), match='        stateAllV2 = {\"goodsNo\":3927110,\"goodsNm\">"
      ]
     },
     "metadata": {},
     "output_type": "display_data"
    },
    {
     "name": "stdout",
     "output_type": "stream",
     "text": [
      "\n",
      "{\"goodsNo\":3927110,\"goodsNm\":\"나이키 레트로페이더반팔티셔츠 (토들러) 블랙\",\"goodsNmEng\":\"나이키 레트로페이더반팔티셔츠 (토들러) 블랙\",\"thumbnailImageUrl\":\"\\/images\\/goods_img\\/20240306\\/3927110\\/3927110_17096995625847_500.jpg\",\"headDesc\":\"\",\"styleNo\":\"A242TS128P\",\"sex\":[\"키즈\"],\"sexCode\":8,\"brand\":\"playkizpro\",\"brandNm\":\"플레이키즈프로\",\"brandNmEng\":\"PLAYKIZPRO\",\"seasonYear\":\"2024\",\"season\":\"1\",\"couponDcPrice\":3500,\"comId\":\"yes24\",\"specialtyCodes\":[\"kids\"],\"goodsEventType\":\"N\",\"isRestictedUsePoint\":false,\"isClearance\":false,\"isPrePoint\":true,\"isGivenPoint\":true,\"isParallelImport\":false,\"deliveryDueType\":\"NONE\",\"deliveryDuePeriod\":0,\"isLimitedQuantity\":false,\"isLimitedTotalQuantity\":false,\"limitedMaxQuantity\":999,\"limitedMinQuantity\":1,\"isBuyForMember\":false,\"isAppGoods\":false,\"isOfflineGoods\":false,\"isFreeReturn\":false,\"giftCount\":0,\"deliveryDueDay\":null,\"isSalePeriod\":false,\"isSale\":false,\"saleStartDate\":null,\"saleEndDate\":null,\"isSellPeriod\":false,\"sellStartDate\":null,\"sellEndDate\":null,\"maxUsePointRate\":0.070000000000000007,\"goodsTags\":[\"반팔티셔츠\",\"키즈티셔츠\",\"여름티셔츠\"],\"isVerify\":false,\"isPlusDelivery\":false,\"isRestock\":true,\"isSoonOutOfStock\":true,\"isLimit\":false,\"isMusinsaMonopoly\":false,\"isOnlineMonopoly\":false,\"isFirst\":false,\"isInvitation\":false,\"isMusinsaDirectDelivery\":false,\"isMusinsaOfflineShopStock\":false,\"isIntangibleGoods\":false,\"isExclusiveMusinsaPay\":false,\"isExclusiveMusinsaHyundaiCard\":false,\"isGoodsStatsGraphShow\":true,\"isCumulativePurchaseShow\":true,\"isGiftCard\":false,\"isLimitedDc\":false,\"isLimitedCoupon\":false,\"intangibleGoodsDeliveryType\":\"\",\"baseCategoryFullPath\":\"\",\"category\":{\"categoryDepth1\":\"001\",\"categoryDepth1Title\":\"상의\",\"categoryDepth2\":\"001001\",\"categoryDepth2Title\":\"반소매 티셔츠\",\"categoryDepth3\":\"\",\"categoryDepth3Title\":\"\"},\"deliveryExpectedArrival\":[{\"mark\":true,\"expectedDate\":\"2024-04-04\",\"expectedPercent\":84,\"koreanWeek\":\"목\",\"cutOfDate\":null,\"orderDeadLine\":null},{\"mark\":false,\"expectedDate\":\"2024-04-05\",\"expectedPercent\":99,\"koreanWeek\":\"금\",\"cutOfDate\":null,\"orderDeadLine\":null}],\"deliveryDelay\":null,\"goodsImages\":[{\"kind\":\"D\",\"repYn\":true,\"bigYn\":true,\"width\":1000,\"height\":1000,\"seq\":1,\"imageUrl\":\"\\/images\\/prd_img\\/20240306\\/3927110\\/detail_3927110_17096995639595_500.jpg\"}],\"paymentEventBanners\":[],\"topEventBanner\":{\"imageUrl\":\"https:\\/\\/image.msscdn.net\\/\",\"title\":\"첫 구매 이벤트\",\"text\":\"<strong><\\/strong> 첫 구매하면 최대 6만 5천원 할인\",\"link\":\"https:\\/\\/www.musinsa.com\\/onboarding\\/firstbuy\",\"backgroundColor\":\"\",\"fontColor\":\"\",\"mainDescription\":\"\",\"subDescription\":\"\"}\n"
     ]
    },
    {
     "ename": "JSONDecodeError",
     "evalue": "Expecting ',' delimiter: line 1 column 2480 (char 2479)",
     "output_type": "error",
     "traceback": [
      "\u001b[0;31m---------------------------------------------------------------------------\u001b[0m",
      "\u001b[0;31mJSONDecodeError\u001b[0m                           Traceback (most recent call last)",
      "Cell \u001b[0;32mIn[36], line 8\u001b[0m\n\u001b[1;32m      6\u001b[0m item_info_str \u001b[38;5;241m=\u001b[39m m\u001b[38;5;241m.\u001b[39mgroup(\u001b[38;5;241m1\u001b[39m)\n\u001b[1;32m      7\u001b[0m \u001b[38;5;28mprint\u001b[39m(item_info_str)\n\u001b[0;32m----> 8\u001b[0m \u001b[43mjson\u001b[49m\u001b[38;5;241;43m.\u001b[39;49m\u001b[43mloads\u001b[49m\u001b[43m(\u001b[49m\u001b[43mitem_info_str\u001b[49m\u001b[43m)\u001b[49m\n",
      "File \u001b[0;32m/usr/lib/python3.10/json/__init__.py:346\u001b[0m, in \u001b[0;36mloads\u001b[0;34m(s, cls, object_hook, parse_float, parse_int, parse_constant, object_pairs_hook, **kw)\u001b[0m\n\u001b[1;32m    341\u001b[0m     s \u001b[38;5;241m=\u001b[39m s\u001b[38;5;241m.\u001b[39mdecode(detect_encoding(s), \u001b[38;5;124m'\u001b[39m\u001b[38;5;124msurrogatepass\u001b[39m\u001b[38;5;124m'\u001b[39m)\n\u001b[1;32m    343\u001b[0m \u001b[38;5;28;01mif\u001b[39;00m (\u001b[38;5;28mcls\u001b[39m \u001b[38;5;129;01mis\u001b[39;00m \u001b[38;5;28;01mNone\u001b[39;00m \u001b[38;5;129;01mand\u001b[39;00m object_hook \u001b[38;5;129;01mis\u001b[39;00m \u001b[38;5;28;01mNone\u001b[39;00m \u001b[38;5;129;01mand\u001b[39;00m\n\u001b[1;32m    344\u001b[0m         parse_int \u001b[38;5;129;01mis\u001b[39;00m \u001b[38;5;28;01mNone\u001b[39;00m \u001b[38;5;129;01mand\u001b[39;00m parse_float \u001b[38;5;129;01mis\u001b[39;00m \u001b[38;5;28;01mNone\u001b[39;00m \u001b[38;5;129;01mand\u001b[39;00m\n\u001b[1;32m    345\u001b[0m         parse_constant \u001b[38;5;129;01mis\u001b[39;00m \u001b[38;5;28;01mNone\u001b[39;00m \u001b[38;5;129;01mand\u001b[39;00m object_pairs_hook \u001b[38;5;129;01mis\u001b[39;00m \u001b[38;5;28;01mNone\u001b[39;00m \u001b[38;5;129;01mand\u001b[39;00m \u001b[38;5;129;01mnot\u001b[39;00m kw):\n\u001b[0;32m--> 346\u001b[0m     \u001b[38;5;28;01mreturn\u001b[39;00m \u001b[43m_default_decoder\u001b[49m\u001b[38;5;241;43m.\u001b[39;49m\u001b[43mdecode\u001b[49m\u001b[43m(\u001b[49m\u001b[43ms\u001b[49m\u001b[43m)\u001b[49m\n\u001b[1;32m    347\u001b[0m \u001b[38;5;28;01mif\u001b[39;00m \u001b[38;5;28mcls\u001b[39m \u001b[38;5;129;01mis\u001b[39;00m \u001b[38;5;28;01mNone\u001b[39;00m:\n\u001b[1;32m    348\u001b[0m     \u001b[38;5;28mcls\u001b[39m \u001b[38;5;241m=\u001b[39m JSONDecoder\n",
      "File \u001b[0;32m/usr/lib/python3.10/json/decoder.py:337\u001b[0m, in \u001b[0;36mJSONDecoder.decode\u001b[0;34m(self, s, _w)\u001b[0m\n\u001b[1;32m    332\u001b[0m \u001b[38;5;28;01mdef\u001b[39;00m \u001b[38;5;21mdecode\u001b[39m(\u001b[38;5;28mself\u001b[39m, s, _w\u001b[38;5;241m=\u001b[39mWHITESPACE\u001b[38;5;241m.\u001b[39mmatch):\n\u001b[1;32m    333\u001b[0m     \u001b[38;5;124;03m\"\"\"Return the Python representation of ``s`` (a ``str`` instance\u001b[39;00m\n\u001b[1;32m    334\u001b[0m \u001b[38;5;124;03m    containing a JSON document).\u001b[39;00m\n\u001b[1;32m    335\u001b[0m \n\u001b[1;32m    336\u001b[0m \u001b[38;5;124;03m    \"\"\"\u001b[39;00m\n\u001b[0;32m--> 337\u001b[0m     obj, end \u001b[38;5;241m=\u001b[39m \u001b[38;5;28;43mself\u001b[39;49m\u001b[38;5;241;43m.\u001b[39;49m\u001b[43mraw_decode\u001b[49m\u001b[43m(\u001b[49m\u001b[43ms\u001b[49m\u001b[43m,\u001b[49m\u001b[43m \u001b[49m\u001b[43midx\u001b[49m\u001b[38;5;241;43m=\u001b[39;49m\u001b[43m_w\u001b[49m\u001b[43m(\u001b[49m\u001b[43ms\u001b[49m\u001b[43m,\u001b[49m\u001b[43m \u001b[49m\u001b[38;5;241;43m0\u001b[39;49m\u001b[43m)\u001b[49m\u001b[38;5;241;43m.\u001b[39;49m\u001b[43mend\u001b[49m\u001b[43m(\u001b[49m\u001b[43m)\u001b[49m\u001b[43m)\u001b[49m\n\u001b[1;32m    338\u001b[0m     end \u001b[38;5;241m=\u001b[39m _w(s, end)\u001b[38;5;241m.\u001b[39mend()\n\u001b[1;32m    339\u001b[0m     \u001b[38;5;28;01mif\u001b[39;00m end \u001b[38;5;241m!=\u001b[39m \u001b[38;5;28mlen\u001b[39m(s):\n",
      "File \u001b[0;32m/usr/lib/python3.10/json/decoder.py:353\u001b[0m, in \u001b[0;36mJSONDecoder.raw_decode\u001b[0;34m(self, s, idx)\u001b[0m\n\u001b[1;32m    344\u001b[0m \u001b[38;5;124;03m\"\"\"Decode a JSON document from ``s`` (a ``str`` beginning with\u001b[39;00m\n\u001b[1;32m    345\u001b[0m \u001b[38;5;124;03ma JSON document) and return a 2-tuple of the Python\u001b[39;00m\n\u001b[1;32m    346\u001b[0m \u001b[38;5;124;03mrepresentation and the index in ``s`` where the document ended.\u001b[39;00m\n\u001b[0;32m   (...)\u001b[0m\n\u001b[1;32m    350\u001b[0m \n\u001b[1;32m    351\u001b[0m \u001b[38;5;124;03m\"\"\"\u001b[39;00m\n\u001b[1;32m    352\u001b[0m \u001b[38;5;28;01mtry\u001b[39;00m:\n\u001b[0;32m--> 353\u001b[0m     obj, end \u001b[38;5;241m=\u001b[39m \u001b[38;5;28;43mself\u001b[39;49m\u001b[38;5;241;43m.\u001b[39;49m\u001b[43mscan_once\u001b[49m\u001b[43m(\u001b[49m\u001b[43ms\u001b[49m\u001b[43m,\u001b[49m\u001b[43m \u001b[49m\u001b[43midx\u001b[49m\u001b[43m)\u001b[49m\n\u001b[1;32m    354\u001b[0m \u001b[38;5;28;01mexcept\u001b[39;00m \u001b[38;5;167;01mStopIteration\u001b[39;00m \u001b[38;5;28;01mas\u001b[39;00m err:\n\u001b[1;32m    355\u001b[0m     \u001b[38;5;28;01mraise\u001b[39;00m JSONDecodeError(\u001b[38;5;124m\"\u001b[39m\u001b[38;5;124mExpecting value\u001b[39m\u001b[38;5;124m\"\u001b[39m, s, err\u001b[38;5;241m.\u001b[39mvalue) \u001b[38;5;28;01mfrom\u001b[39;00m \u001b[38;5;28mNone\u001b[39m\n",
      "\u001b[0;31mJSONDecodeError\u001b[0m: Expecting ',' delimiter: line 1 column 2480 (char 2479)"
     ]
    }
   ],
   "source": [
    "#item_html_soup = BeautifulSoup(item_html_content)\n",
    "s = \"\"\"        stateAllV2 = {\"goodsNo\":3927110,\"goodsNm\":\"나이키 레트로페이더반팔티셔츠 (토들러) 블랙\",\"goodsNmEng\":\"나이키 레트로페이더반팔티셔츠 (토들러) 블랙\",\"thumbnailImageUrl\":\"\\/images\\/goods_img\\/20240306\\/3927110\\/3927110_17096995625847_500.jpg\",\"headDesc\":\"\",\"styleNo\":\"A242TS128P\",\"sex\":[\"키즈\"],\"sexCode\":8,\"brand\":\"playkizpro\",\"brandNm\":\"플레이키즈프로\",\"brandNmEng\":\"PLAYKIZPRO\",\"seasonYear\":\"2024\",\"season\":\"1\",\"couponDcPrice\":3500,\"comId\":\"yes24\",\"specialtyCodes\":[\"kids\"],\"goodsEventType\":\"N\",\"isRestictedUsePoint\":false,\"isClearance\":false,\"isPrePoint\":true,\"isGivenPoint\":true,\"isParallelImport\":false,\"deliveryDueType\":\"NONE\",\"deliveryDuePeriod\":0,\"isLimitedQuantity\":false,\"isLimitedTotalQuantity\":false,\"limitedMaxQuantity\":999,\"limitedMinQuantity\":1,\"isBuyForMember\":false,\"isAppGoods\":false,\"isOfflineGoods\":false,\"isFreeReturn\":false,\"giftCount\":0,\"deliveryDueDay\":null,\"isSalePeriod\":false,\"isSale\":false,\"saleStartDate\":null,\"saleEndDate\":null,\"isSellPeriod\":false,\"sellStartDate\":null,\"sellEndDate\":null,\"maxUsePointRate\":0.070000000000000007,\"goodsTags\":[\"반팔티셔츠\",\"키즈티셔츠\",\"여름티셔츠\"],\"isVerify\":false,\"isPlusDelivery\":false,\"isRestock\":true,\"isSoonOutOfStock\":true,\"isLimit\":false,\"isMusinsaMonopoly\":false,\"isOnlineMonopoly\":false,\"isFirst\":false,\"isInvitation\":false,\"isMusinsaDirectDelivery\":false,\"isMusinsaOfflineShopStock\":false,\"isIntangibleGoods\":false,\"isExclusiveMusinsaPay\":false,\"isExclusiveMusinsaHyundaiCard\":false,\"isGoodsStatsGraphShow\":true,\"isCumulativePurchaseShow\":true,\"isGiftCard\":false,\"isLimitedDc\":false,\"isLimitedCoupon\":false,\"intangibleGoodsDeliveryType\":\"\",\"baseCategoryFullPath\":\"\",\"category\":{\"categoryDepth1\":\"001\",\"categoryDepth1Title\":\"상의\",\"categoryDepth2\":\"001001\",\"categoryDepth2Title\":\"반소매 티셔츠\",\"categoryDepth3\":\"\",\"categoryDepth3Title\":\"\"},\"deliveryExpectedArrival\":[{\"mark\":true,\"expectedDate\":\"2024-04-04\",\"expectedPercent\":84,\"koreanWeek\":\"목\",\"cutOfDate\":null,\"orderDeadLine\":null},{\"mark\":false,\"expectedDate\":\"2024-04-05\",\"expectedPercent\":99,\"koreanWeek\":\"금\",\"cutOfDate\":null,\"orderDeadLine\":null}],\"deliveryDelay\":null,\"goodsImages\":[{\"kind\":\"D\",\"repYn\":true,\"bigYn\":true,\"width\":1000,\"height\":1000,\"seq\":1,\"imageUrl\":\"\\/images\\/prd_img\\/20240306\\/3927110\\/detail_3927110_17096995639595_500.jpg\"}],\"paymentEventBanners\":[],\"topEventBanner\":{\"imageUrl\":\"https:\\/\\/image.msscdn.net\\/\",\"title\":\"첫 구매 이벤트\",\"text\":\"<strong><\\/strong> 첫 구매하면 최대 6만 5천원 할인\",\"link\":\"https:\\/\\/www.musinsa.com\\/onboarding\\/firstbuy\",\"backgroundColor\":\"\",\"fontColor\":\"\",\"mainDescription\":\"\",\"subDescription\":\"\"},\"brandBanner\":{\"brandId\":\"playkizpro\",\"headerBanner\":\"<p class=\\\"brandBanner\\\" style=\\\"BACKGROUND: url(\\/\\/image.msscdn.net\\/display\\/images\\/2024\\/01\\/09\\/13548aeb9a7a4894abaa0538ed7a419d.png\\\"><img alt=\\\"\\\" src=\\\"\\/\\/image.msscdn.net\\/display\\/images\\/2024\\/01\\/09\\/d42beba4cca145be9ded216b5bb90bc4.png\\\" \\/><\\/p>\\n\",\"imagePath\":\"\",\"bgColor\":\"#000000\",\"mheaderBanner\":\"<p class=\\\"brandBanner\\\" style=\\\"BACKGROUND-IMAGE: url(\\/\\/image.msscdn.net\\/display\\/images\\/2024\\/01\\/09\\/1853c6314e9e4decb8ae4ce204c47f95.png)\\\"><img alt=\\\"\\\" src=\\\"\\/\\/image.msscdn.net\\/display\\/images\\/2024\\/01\\/09\\/4fee136315474284866670be2fb3ef3e.png\\\" \\/><\\/p>\\n\"},\"differenceColorGoods\":[{\"goodsNo\":3927110,\"goodsNm\":\"나이키 레트로페이더반팔티셔츠 (토들러) 블랙\",\"price\":35000,\"normalPrice\":35000,\"saleRate\":0,\"isDiscount\":false,\"isSale\":true,\"isSoldOut\":false,\"isComingSoon\":false,\"isStop\":false,\"imageUrl\":\"\\/images\\/goods_img\\/20240306\\/3927110\\/3927110_17096995625847_500.jpg\"},{\"goodsNo\":3927109,\"goodsNm\":\"나이키 레트로페이더반팔티셔츠 (토들러) 그린\",\"price\":35000,\"normalPrice\":35000,\"saleRate\":0,\"isDiscount\":false,\"isSale\":true,\"isSoldOut\":false,\"isComingSoon\":false,\"isStop\":false,\"imageUrl\":\"\\/images\\/goods_img\\/20240306\\/3927109\\/3927109_17096995576056_500.jpg\"}],\"setupGoods\":[],\"labels\":[],\"goodsPriceMemberLevels\":[{\"level\":1,\"name\":\"뉴비\",\"price\":31115},{\"level\":2,\"name\":\"루키\",\"price\":30765},{\"level\":3,\"name\":\"멤버\",\"price\":30415},{\"level\":4,\"name\":\"브론즈\",\"price\":30065},{\"level\":5,\"name\":\"실버\",\"price\":29715},{\"level\":6,\"name\":\"골드\",\"price\":29365},{\"level\":7,\"name\":\"플래티넘\",\"price\":29015},{\"level\":8,\"name\":\"다이아몬드\",\"price\":28665}],\"goodsPrice\":{\"minPrice\":28665,\"maxPrice\":35000,\"originPrice\":35000,\"memberPrice\":31115,\"discountRate\":0,\"type\":\"DEFAULT\",\"isSale\":false,\"partnerInformation\":null},\"musinsaHyundaiCardEvent\":{\"discountRate\":0.050000000000000003,\"maxAmountOfDiscountRate\":30000},\"goodsLogisticsInfo\":{\"deliveryInfoName\":\"국내 배송\",\"courierName\":null,\"businessDayOrderDeadlineHour\":8,\"defaultReleasePeriod\":3,\"isOverseasDelivery\":false,\"isTodayReleaseGoods\":false,\"isAvailableTimeToTodayRelease\":false,\"isAutoReturnShipping\":true,\"returnShippingCourierName\":\"CJ대한통운\",\"returnShippingZipCode\":\"10857\",\"returnShippingAddress\":\"경기도 파주시 방촌로 1172-21 한세드림(주)\",\"returnShippingAddressDetail\":\"아이스타일24 물류센터\"},\"interestFreeCard\":null,\"isRaffle\":false,\"goodsSaleType\":\"SALE\",\"isTimeSale\":false,\"goodsReview\":{\"totalCount\":1,\"styleCount\":0,\"beautyCount\":0,\"photoCount\":1,\"goodsCount\":0,\"eventCount\":0,\"satisfactionScore\":5},\"isLimitedPoint\":false,\"goodsType\":\"P\",\"showSpace\":null,\"returnShippingFee\":{\"roundShippingFee\":6000,\"additionalFeeForJeju\":2000,\"additionalFeeForOthers\":5000},\"goodsMaterial\":{\"maxLowCount\":0,\"materials\":[]},\"goodsContentsBanner\":{\"company\":null,\"allTop\":null,\"top\":null,\"allBottom\":null,\"bottom\":null},\"goodsContents\":\"<img alt=\\\"\\\" src=\\\"\\/\\/image.istyle24.com\\/Upload\\/brand_top\\/bt_nikekids242.jpg\\\" style=\\\"display: block;margin: 10px auto 0;\\\"><br>\\n<br>\\n<br>\\n<br>\\n \\n<div style=\\\"max-height:1100px; overflow:hidden; text-align: left; color:#222;\\\">\\n<div style=\\\"position:relative; margin-top:0px; margin-left:auto; margin-right:auto;\\\">\\n<p><span style=\\\"font-size:16px;font-weight:200;line-height:1.5;word-break:keep-all;color:#666666;\\\">o 면 혼방 소재 반팔 티셔츠<\\/span><br>\\n <\\/p>\\n\\n<p><span style=\\\"font-size:16px;font-weight:200;line-height:1.5;word-break:keep-all;color:#666666;\\\">o 전면에 그라데이션 나이키 로고로 포인트를 준 스타일<\\/span><\\/p>\\n<\\/div>\\n<\\/div>\\n\\n<div style=\\\"margin-top: 100px;text-align: center; color:#222;\\\"><span style=\\\"display:block; margin-bottom:10px; font-size:18px; font-weight:500; letter-spacing:-0.025em;\\\">컬러 : <span>블랙<\\/span><\\/span>\\n\\n<div style=\\\"margin-top: 40px;\\\"><img alt=\\\"\\\" src=\\\"https:\\/\\/image.style24.com\\/Upload\\/ProductImage\\/0000024302\\/20240226\\/A242TS128P_BK_01.jpg\\\" style=\\\"width:100%;margin: 10px auto 0;display: block;\\\"><img alt=\\\"\\\" src=\\\"https:\\/\\/image.style24.com\\/Upload\\/ProductImage\\/0000024302\\/20240226\\/A242TS128P_BK_02.jpg\\\" style=\\\"width:100%;margin: 10px auto 0;display: block;\\\"><\\/div>\\n\\n<div style=\\\"height:100px;\\\"> <\\/div>\\n<\\/div>\\n\\n<div style=\\\"margin-top: 100px;text-align: center;\\\"><span style=\\\"display: block;color: #222;font-size: 32px;font-weight: 300;text-align: center;\\\">PRODUCT VIEW<\\/span>\\n\\n<div style=\\\"margin-top: 40px;\\\"><img alt=\\\"\\\" src=\\\"https:\\/\\/image.style24.com\\/Upload\\/ProductImage\\/0000024302\\/20240226\\/A242TS128P_BK_D1.jpg\\\" style=\\\"display: block;margin: 10px auto 0;width:100%;\\\"><img alt=\\\"\\\" src=\\\"https:\\/\\/image.style24.com\\/Upload\\/ProductImage\\/0000024302\\/20240226\\/A242TS128P_BK_D2.jpg\\\" style=\\\"display: block;margin: 10px auto 0;width:100%;\\\"><\\/div>\\n<\\/div>\\n\\n<div style=\\\"margin-top: 100px;text-align: center;\\\"><span style=\\\"display: block;color: #222;font-size: 32px;font-weight: 300;text-align: center;\\\">LABEL INFO<\\/span>\\n\\n<div style=\\\"margin-top: 40px;\\\"><span style=\\\"display:inline-block;\\\"><img alt=\\\"\\\" src=\\\"https:\\/\\/image.style24.com\\/Upload\\/ProductImage\\/0000024302\\/20240226\\/A242TS128P_BK_L1.jpg\\\" style=\\\"margin-top:0px; margin-left:20px; max-width:250px; width:100%; float:left\\\"><img alt=\\\"\\\" src=\\\"https:\\/\\/image.style24.com\\/Upload\\/ProductImage\\/0000024302\\/20240226\\/A242TS128P_BK_L2.jpg\\\" style=\\\"margin-top:0px; margin-left:20px; max-width:250px; width:100%; float:left\\\"><\\/span><\\/div>\\n<\\/div>\\n\\n<div style=\\\"margin-top: 100px;text-align: center;\\\"><span style=\\\"display: block;color: #222;font-size: 32px;font-weight: 300;text-align: center;\\\">사이즈정보<\\/span>\\n\\n<div style=\\\"margin-top: 40px;\\\"><img alt=\\\"표준 사이즈\\\" src=\\\"https:\\/\\/image.style24.com\\/Upload\\/brandSizeImg\\/PLAYKIZ.jpg\\\" style=\\\"display: block;margin: 10px auto 0;\\\"><\\/div>\\n<\\/div>\\n\\n<div style=\\\"margin-bottom:80px;\\\">\\n<div style=\\\"color:#222;display:block; position:relative; min-height:160px; margin-top:100px; padding:40px 40px 40px 160px; box-sizing:border-box; background:#f5f5f5;\\\">\\n<p style=\\\"position:absolute;left:64px;top:50%;transform:translateY(-50%);\\\"><img alt=\\\"\\\" src=\\\"\\/\\/image.style24.com\\/Style24\\/images\\/pc\\/ico_kcl.png\\\"><\\/p>\\n\\n<p style=\\\"margin-top:0;color:#222;font-size:16px;font-weight:300;line-height:1;letter-spacing:-0.025em;\\\">어린이제품 공급자적합성 \\/ 공급자적합성확인<\\/p>\\n\\n<p style=\\\"margin-top:20px; color:#222; font-size:13px; font-weight: 300; line-height:1; letter-spacing:-0.025em;\\\">공급자 적합성 확인 품목으로 국가통합인증을 필함<\\/p>\\n\\n<p style=\\\"color: #888888;position:relative;margin-top:20px;font-size:13px;font-weight:300;line-height:1;letter-spacing:-0.025em;\\\">해당 인증정보는 판매자가 등록한 것으로 등록정보에 대한 일체의 책임은 판매자에게 있습니다.<\\/p>\\n<\\/div>\\n<\\/div>\\n<br>\\n<img alt=\\\"\\\" src=\\\"\\/\\/image.istyle24.com\\/Upload\\/brand_top\\/bt_info.jpg\\\" style=\\\"display: block;margin: 10px auto 0;\\\"><br>\\n<br>\",\"similarNo\":3927109,\"baseCategory\":\"031001001\",\"isEnabledToQnA\":true,\"mdOpinion\":\"\",\"specDesc\":\"\",\"sizeType\":\"5\",\"isUseSize\":true,\"optKindCd\":\"CLOTHES\",\"seasonFullName\":\"2024 SS\",\"categoryFullPath\":\"\",\"memberHashedEmail\":\"\",\"isGoodsViewExcludingService\":false,\"isGoodsReviewExcludingService\":false,\"SITE_SEX\":\"\",\"IS_LOGIN\":\"N\",\"goodsApiDomain\":\"https:\\/\\/goods.musinsa.com\\/api\\/goods\"}\"\"\"\n",
    "m = re.search(r\"^\\s*stateAllV2 = (\\{[^\\n]*\\})\", s, flags=re.MULTILINE)\n",
    "display(m)\n",
    "print()\n",
    "item_info_str = m.group(1)\n",
    "print(item_info_str)\n",
    "json.loads(item_info_str)"
   ]
  },
  {
   "cell_type": "code",
   "execution_count": 13,
   "id": "e9c34a28-4eb8-41eb-a62c-1b381d329a7b",
   "metadata": {},
   "outputs": [
    {
     "data": {
      "text/plain": [
       "<re.Match object; span=(7561, 7852), match='stateAll = {\"isDebug\":false,\"isGoodsViewExcluding>"
      ]
     },
     "metadata": {},
     "output_type": "display_data"
    },
    {
     "name": "stdout",
     "output_type": "stream",
     "text": [
      "\n",
      "{\"isDebug\":false,\"isGoodsViewExcludingService\":false,\"isGoodsReviewExcludingService\":false,\"params\":{\"goodsNo\":\"3932869\",\"goodsSub\":0,\"sort\":\"new\",\"selectSimilarNo\":\"\",\"isSecret\":\"0\",\"isCache\":\"Y\",\"sex\":0,\"wh\":\"\",\"loc\":\"\",\"pGoodsNo\":\"\",\"cacheFlush\":\"\",\"rcdr\":\"\",\"detailJsPath\":\"\"}\n"
     ]
    }
   ],
   "source": [
    "m = re.search(r\"stateAll = (\\{.*?\\})\", item_html_content)\n",
    "display(m)\n",
    "print()\n",
    "item_info1_str = m.group(1)\n",
    "print(item_info1_str)"
   ]
  },
  {
   "cell_type": "markdown",
   "id": "b1a24fe9-df6d-4e0a-ba79-7b4d11ffd397",
   "metadata": {},
   "source": [
    "## Reviews"
   ]
  },
  {
   "cell_type": "code",
   "execution_count": 43,
   "id": "a00cfd19-985f-4beb-b454-b3c79139c3df",
   "metadata": {},
   "outputs": [],
   "source": [
    "review_url_raw = \"https://goods.musinsa.com/api/goods/v2/review/style/list?similarNo=0&sort=new&selectedSimilarNo=3740621&page=1&goodsNo=3740621&rvck=202403211409&_=1711018303983\"\n",
    "review_url_short = \"https://goods.musinsa.com/api/goods/v2/review/style/list?page=1&goodsNo=3740621\"\n",
    "review_url2 = \"https://goods.musinsa.com/api/goods/v2/review/style/list?similarNo=996177&sort=up_cnt_desc&selectedSimilarNo=996177&page=1&goodsNo=996177&rvck=202403271428&_=1711976169327\"\n",
    "review_url = review_url2\n",
    "review_content = requests.get(review_url, headers={'User-Agent': USER_AGENT}).content.decode('utf-8')"
   ]
  },
  {
   "cell_type": "code",
   "execution_count": 44,
   "id": "645cd338-ecca-41b2-aed3-4a7bf713f2d1",
   "metadata": {},
   "outputs": [
    {
     "name": "stdout",
     "output_type": "stream",
     "text": [
      "10\n",
      "{'reviewer_name': 'LV.5 코크맨111', 'review_data': '2020.05.08', 'reviewer_profile': '남성 · 180cm · 110kg', 'item_url': 'https://www.musinsa.com/app/goods/996177/0', 'item_name': '릴렉스 핏 크루 넥 반팔 티셔츠 [화이트]', 'item_size': 'XXXL', 'review_list': ['사이즈 커요', '밝기 보통이에요', '색감 선명해요', '두께감 보통이에요'], 'review_text': '팔과 기장이 쫌크네요두께는 쫌 있구요암튼 가성비는굿인듯요', 'review_photos': ['//image.msscdn.net/data/estimate/996177_0/gallery_5eb44dfc8b8b7.jpg.view']}\n",
      "\n",
      "{'reviewer_name': 'LV.6 cometpp', 'review_data': '2021.03.19', 'reviewer_profile': '남성 · 175cm · 70kg', 'item_url': 'https://www.musinsa.com/app/goods/996177/0', 'item_name': '릴렉스 핏 크루 넥 반팔 티셔츠 [화이트]', 'item_size': 'L', 'review_list': ['사이즈 커요', '밝기 보통이에요', '색감 선명해요', '두께감 보통이에요'], 'review_text': '팔과 기장이 쫌크네요두께는 쫌 있구요암튼 가성비는굿인듯요', 'review_photos': ['//image.msscdn.net/data/estimate/996177_0/gallery_5eb44dfc8b8b7.jpg.view']}\n",
      "\n",
      "{'reviewer_name': 'LV.6 meoooxe', 'review_data': '2019.09.29', 'reviewer_profile': None, 'item_url': 'https://www.musinsa.com/app/goods/996177/0', 'item_name': '릴렉스 핏 크루 넥 반팔 티셔츠 [화이트]', 'item_size': 'S', 'review_list': ['사이즈 커요', '밝기 보통이에요', '색감 선명해요', '두께감 보통이에요'], 'review_text': '팔과 기장이 쫌크네요두께는 쫌 있구요암튼 가성비는굿인듯요', 'review_photos': ['//image.msscdn.net/data/estimate/996177_0/gallery_5eb44dfc8b8b7.jpg.view']}\n",
      "\n",
      "{'reviewer_name': 'LV.5 실버_b9f6ad45ce7e', 'review_data': '2019.08.28', 'reviewer_profile': None, 'item_url': 'https://www.musinsa.com/app/goods/996177/0', 'item_name': '릴렉스 핏 크루 넥 반팔 티셔츠 [화이트]', 'item_size': 'XL', 'review_list': ['사이즈 커요', '밝기 보통이에요', '색감 선명해요', '두께감 보통이에요'], 'review_text': '팔과 기장이 쫌크네요두께는 쫌 있구요암튼 가성비는굿인듯요', 'review_photos': ['//image.msscdn.net/data/estimate/996177_0/gallery_5eb44dfc8b8b7.jpg.view']}\n",
      "\n",
      "{'reviewer_name': 'LV.5 핑핑잉', 'review_data': '2019.09.06', 'reviewer_profile': None, 'item_url': 'https://www.musinsa.com/app/goods/996177/0', 'item_name': '릴렉스 핏 크루 넥 반팔 티셔츠 [화이트]', 'item_size': 'XXL', 'review_list': ['사이즈 커요', '밝기 보통이에요', '색감 선명해요', '두께감 보통이에요'], 'review_text': '팔과 기장이 쫌크네요두께는 쫌 있구요암튼 가성비는굿인듯요', 'review_photos': ['//image.msscdn.net/data/estimate/996177_0/gallery_5eb44dfc8b8b7.jpg.view']}\n",
      "\n",
      "{'reviewer_name': 'LV.6 킥득킥득', 'review_data': '2020.08.09', 'reviewer_profile': '남성 · 171cm · 64kg', 'item_url': 'https://www.musinsa.com/app/goods/996177/0', 'item_name': '릴렉스 핏 크루 넥 반팔 티셔츠 [화이트]', 'item_size': 'M', 'review_list': ['사이즈 커요', '밝기 보통이에요', '색감 선명해요', '두께감 보통이에요'], 'review_text': '팔과 기장이 쫌크네요두께는 쫌 있구요암튼 가성비는굿인듯요', 'review_photos': ['//image.msscdn.net/data/estimate/996177_0/gallery_5eb44dfc8b8b7.jpg.view']}\n",
      "\n",
      "{'reviewer_name': 'LV.5 bj도저', 'review_data': '2021.11.16', 'reviewer_profile': '남성 · 177cm · 77kg', 'item_url': 'https://www.musinsa.com/app/goods/996177/0', 'item_name': '릴렉스 핏 크루 넥 반팔 티셔츠 [화이트]', 'item_size': 'M', 'review_list': ['사이즈 커요', '밝기 보통이에요', '색감 선명해요', '두께감 보통이에요'], 'review_text': '팔과 기장이 쫌크네요두께는 쫌 있구요암튼 가성비는굿인듯요', 'review_photos': ['//image.msscdn.net/data/estimate/996177_0/gallery_5eb44dfc8b8b7.jpg.view']}\n",
      "\n",
      "{'reviewer_name': 'LV.4 살까말까할땐사기', 'review_data': '2021.07.28', 'reviewer_profile': '여성 · 165cm · 55kg', 'item_url': 'https://www.musinsa.com/app/goods/996177/0', 'item_name': '릴렉스 핏 크루 넥 반팔 티셔츠 [화이트]', 'item_size': 'S', 'review_list': ['사이즈 커요', '밝기 보통이에요', '색감 선명해요', '두께감 보통이에요'], 'review_text': '팔과 기장이 쫌크네요두께는 쫌 있구요암튼 가성비는굿인듯요', 'review_photos': ['//image.msscdn.net/data/estimate/996177_0/gallery_5eb44dfc8b8b7.jpg.view']}\n",
      "\n",
      "{'reviewer_name': 'LV.3 뚱보스', 'review_data': '2021.04.17', 'reviewer_profile': '여성 · 162cm · 70kg', 'item_url': 'https://www.musinsa.com/app/goods/996177/0', 'item_name': '릴렉스 핏 크루 넥 반팔 티셔츠 [화이트]', 'item_size': 'XXL', 'review_list': ['사이즈 커요', '밝기 보통이에요', '색감 선명해요', '두께감 보통이에요'], 'review_text': '팔과 기장이 쫌크네요두께는 쫌 있구요암튼 가성비는굿인듯요', 'review_photos': ['//image.msscdn.net/data/estimate/996177_0/gallery_5eb44dfc8b8b7.jpg.view']}\n",
      "\n",
      "{'reviewer_name': 'LV.5 K00K00', 'review_data': '2020.06.11', 'reviewer_profile': '남성 · 167cm · 58kg', 'item_url': 'https://www.musinsa.com/app/goods/996177/0', 'item_name': '릴렉스 핏 크루 넥 반팔 티셔츠 [화이트]', 'item_size': 'S', 'review_list': ['사이즈 커요', '밝기 보통이에요', '색감 선명해요', '두께감 보통이에요'], 'review_text': '팔과 기장이 쫌크네요두께는 쫌 있구요암튼 가성비는굿인듯요', 'review_photos': ['//image.msscdn.net/data/estimate/996177_0/gallery_5eb44dfc8b8b7.jpg.view']}\n",
      "\n"
     ]
    }
   ],
   "source": [
    "review_soup = BeautifulSoup(review_content)\n",
    "review_items = review_soup.select(\".review-list-wrap .review-list\")\n",
    "print(len(review_items))\n",
    "for review_item in review_items:\n",
    "    d = {}\n",
    "    d['reviewer_name'] = getattr(review_item.select_one(\".review-profile__name\"), 'text', None)\n",
    "    d['review_date'] = getattr(review_item.select_one(\".review-profile__date\"), 'text', None)\n",
    "    d['reviewer_profile'] = getattr(review_item.select_one(\".review-profile__body_information\"), 'text', None)\n",
    "    ii = review_item.select_one(\".review-goods-information\")\n",
    "    # sanity check\n",
    "    d['item_url'] = (ii.select_one(\".review-goods-information__item a[href]\") or {}).get('href')\n",
    "    d['item_name'] = getattr(ii.select_one(\".review-goods-information__name\"), 'text', None)\n",
    "    d['item_size'] = getattr(ii.select_one(\".review-goods-information__option\"), 'text', \"\").strip() or None\n",
    "\n",
    "    rc = review_soup.select_one(\".review-contents\")\n",
    "    d['review_list'] = []\n",
    "    for rli in rc.select(\".review-evaluation--type3__list .review-evaluation--type3__item\"):\n",
    "        d['review_list'].append(rli.text)\n",
    "    d['review_text'] = getattr(rc.select_one(\".review-contents__text\"), 'text', None)\n",
    "    d['review_photos'] = []\n",
    "    for rpi in rc.select(\".review-content-photo .review-content-photo__list .review-content-photo__item img[src]\"):\n",
    "        d['review_photos'].append(rpi['src'])\n",
    "    print(d)\n",
    "    print()"
   ]
  },
  {
   "cell_type": "code",
   "execution_count": 46,
   "id": "47ef45f4-b1bc-4164-b128-0238d2f637f6",
   "metadata": {},
   "outputs": [
    {
     "name": "stdout",
     "output_type": "stream",
     "text": [
      "1079 페이지 중 1 페이지\n",
      "n_review_pages=1079\n"
     ]
    }
   ],
   "source": [
    "n_review_pages_txt = getattr(review_soup.select_one(\".nslist_bottom .box_page_msg\"), 'text', \"\").strip() or None\n",
    "n_review_pages = -9999\n",
    "if n_review_pages_txt is not None:\n",
    "    m = re.search(r\"^(\\d+)\\s페이지\\s중\\s\\d+\\s페이지$\", n_review_pages_txt)\n",
    "    if m:\n",
    "        n_review_pages = int(m.group(1))\n",
    "print(n_review_pages_txt)\n",
    "print(f\"{n_review_pages=}\")"
   ]
  },
  {
   "cell_type": "code",
   "execution_count": null,
   "id": "fd79389c-7f0c-4b2a-bcb7-3454afc28e84",
   "metadata": {},
   "outputs": [],
   "source": []
  },
  {
   "cell_type": "code",
   "execution_count": null,
   "id": "b82bfc26-7de8-4272-a2d5-5bca205ea2b0",
   "metadata": {},
   "outputs": [],
   "source": []
  }
 ],
 "metadata": {
  "kernelspec": {
   "display_name": "Python 3 (ipykernel)",
   "language": "python",
   "name": "python3"
  },
  "language_info": {
   "codemirror_mode": {
    "name": "ipython",
    "version": 3
   },
   "file_extension": ".py",
   "mimetype": "text/x-python",
   "name": "python",
   "nbconvert_exporter": "python",
   "pygments_lexer": "ipython3",
   "version": "3.10.12"
  }
 },
 "nbformat": 4,
 "nbformat_minor": 5
}
