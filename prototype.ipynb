{
 "cells": [
  {
   "cell_type": "code",
   "execution_count": 2,
   "id": "174919ba-6a65-4c20-b8f0-62845c3a9824",
   "metadata": {},
   "outputs": [],
   "source": [
    "import requests\n",
    "from bs4 import BeautifulSoup"
   ]
  },
  {
   "cell_type": "code",
   "execution_count": 44,
   "id": "3bf0e78b-e8be-4a45-8190-c06b215e467f",
   "metadata": {},
   "outputs": [],
   "source": [
    "import json\n",
    "import re"
   ]
  },
  {
   "cell_type": "code",
   "execution_count": null,
   "id": "e4dfbd39-707d-43bb-9dd6-78b1d9bcd010",
   "metadata": {},
   "outputs": [],
   "source": []
  },
  {
   "cell_type": "code",
   "execution_count": 31,
   "id": "dc9f1722-d365-4836-b775-e0b61b7feb1e",
   "metadata": {},
   "outputs": [],
   "source": [
    "USER_AGENT = \"Mozilla/5.0 (Windows NT 10.0; Win64; x64) AppleWebKit/537.36 (KHTML, like Gecko) Chrome/123.0.0.0 Safari/537.36\""
   ]
  },
  {
   "cell_type": "markdown",
   "id": "ea70eca7-8ad9-4669-9c8b-b7cfa8071b24",
   "metadata": {},
   "source": [
    "## List, list item brief"
   ]
  },
  {
   "cell_type": "code",
   "execution_count": null,
   "id": "11c996bf-eb29-4caa-b4ac-0bd4337bc95b",
   "metadata": {},
   "outputs": [],
   "source": [
    "top_pg2_url = \"https://www.musinsa.com/categories/item/001?d_cat_cd=001&brand=&list_kind=small&sort=pop_category&sub_sort=&page=2&display_cnt=90&exclusive_yn=&sale_goods=&timesale_yn=&ex_soldout=&plusDeliveryYn=&kids=&color=&price1=&price2=&shoeSizeOption=&tags=&campaign_id=&includeKeywords=&measure=\"\n",
    "top_pg10_bypriceh_url = \"https://www.musinsa.com/categories/item/001?d_cat_cd=001&brand=&list_kind=small&sort=price_high&sub_sort=&page=1&display_cnt=90&exclusive_yn=&sale_goods=&timesale_yn=&ex_soldout=&plusDeliveryYn=&kids=&color=&price1=&price2=&shoeSizeOption=&tags=&campaign_id=&includeKeywords=&measure=\"\n",
    "\n",
    "top_pg10 = requests.get(top_pg10_bypriceh_url)\n",
    "top_pg10_content = top_pg10.content.decode('utf-8')\n",
    "\n",
    "# scrape by category (상의 Top > 스포츠 상의 etc.) or combined (상의 Top > 전체)"
   ]
  },
  {
   "cell_type": "code",
   "execution_count": null,
   "id": "0fe6239b-b9ba-4f51-a41b-6debfaf87187",
   "metadata": {},
   "outputs": [],
   "source": [
    "top_pg10_soup = BeautifulSoup(top_pg10_content, 'html.parser')\n",
    "items = top_pg10_soup.select(\"ul#searchList > li\")"
   ]
  },
  {
   "cell_type": "code",
   "execution_count": 30,
   "id": "12194a91-7cbb-424c-9249-f05890666e35",
   "metadata": {},
   "outputs": [
    {
     "name": "stdout",
     "output_type": "stream",
     "text": [
      "90\n",
      "{\n",
      "  \"data_no\": \"3160989\",\n",
      "  \"brand\": \"오프 화이트\",\n",
      "  \"brand_url\": \"//www.musinsa.com/brands/offwhite\",\n",
      "  \"item_name\": \"남성 애로우 카오스 디스트레스드 니트 - 멀티컬러 / OMHE131F22KNI0018401\",\n",
      "  \"item_url\": \"//www.musinsa.com/app/goods/3160989\",\n",
      "  \"price\": \"3,031,000원\\n                2,504,000원\"\n",
      "}\n"
     ]
    }
   ],
   "source": [
    "print(len(items))\n",
    "itm = items[0]\n",
    "#print(itm)\n",
    "d = {}\n",
    "\n",
    "d['data_no'] = itm['data-no']\n",
    "ai = itm.select_one(\".article_info\")\n",
    "d['brand'] = ai.select_one(\".item_title\").text\n",
    "d['brand_url'] = ai.select_one(\".item_title > a[href]\")['href']\n",
    "d['item_name'] = ai.select_one(\".list_info > [name=goods_link][title]\")['title']\n",
    "d['item_url'] = ai.select_one(\".list_info > [name=goods_link][href]\")['href']\n",
    "d['price'] = ai.select_one(\".price\").text.strip()\n",
    "#d['likes'] = str(ai.select_one(\".txt_cnt_like\"))\n",
    "\n",
    "print(json.dumps(d, indent=2, ensure_ascii=False))"
   ]
  },
  {
   "cell_type": "code",
   "execution_count": 100,
   "id": "33526348-4361-49ef-a395-28ad94935ffd",
   "metadata": {},
   "outputs": [
    {
     "name": "stdout",
     "output_type": "stream",
     "text": [
      "2812\n"
     ]
    }
   ],
   "source": [
    "n_total_pages = int(getattr(top_pg10_soup.select_one('.page_items_lists .section_container_list .totalPagingNum'), 'text') or \"-9999\")\n",
    "print(n_total_pages)"
   ]
  },
  {
   "cell_type": "code",
   "execution_count": null,
   "id": "aea3d3be-313f-478d-965d-e71d6b49906e",
   "metadata": {},
   "outputs": [],
   "source": []
  },
  {
   "cell_type": "markdown",
   "id": "e3c7007f-de9c-435b-a02a-2686711a0927",
   "metadata": {},
   "source": [
    "## Item details"
   ]
  },
  {
   "cell_type": "code",
   "execution_count": 38,
   "id": "dcfb60cf-3644-4347-b401-f6eac043b87e",
   "metadata": {},
   "outputs": [
    {
     "name": "stdout",
     "output_type": "stream",
     "text": [
      "essential={'data': [{'name': '제품 소재', 'value': 'KNITTED', 'seq': 1}, {'name': '색상', 'value': 'DARK NAVY', 'seq': 2}, {'name': '치수', 'value': 'M / L / XL', 'seq': 3}, {'name': '제조사', 'value': '성주디앤디', 'seq': 4}, {'name': '제조국', 'value': '대한민국', 'seq': 5}, {'name': '세탁방법 ∙ 취급시 주의사항', 'value': '손세탁 표백, 마찰, 불림 금지. 건조기 사용 금지 마찰에 의해 자연스럽게 보풀이 발생할 수 있습니다', 'seq': 6}, {'name': '제조연월', 'value': '2023년 4월', 'seq': 7}, {'name': '품질보증기준', 'value': '관련법 및 소비자 분쟁해결 기준에 따름', 'seq': 8}, {'name': 'A/S책임자 ∙ 전화번호', 'value': 'MCM  온라인 수선접수 고객센터 1600-1976', 'seq': 9}]}\n",
      "essential={'data': [{'name': '제품 소재', 'value': '상세페이지 참조', 'seq': 1}, {'name': '색상', 'value': '상세페이지 참조', 'seq': 2}, {'name': '치수', 'value': '상세페이지 참조', 'seq': 3}, {'name': '제조사', 'value': '비케이브', 'seq': 4}, {'name': '제조국', 'value': '베트남', 'seq': 5}, {'name': '세탁방법 ∙ 취급시 주의사항', 'value': '상세페이지 참조', 'seq': 6}, {'name': '제조연월', 'value': '2023.04', 'seq': 7}, {'name': '품질보증기준', 'value': '상세페이지 참조', 'seq': 8}, {'name': 'A/S책임자 ∙ 전화번호', 'value': '진수원 02-338-3316', 'seq': 9}]}\n"
     ]
    }
   ],
   "source": [
    "essential_url = \"https://goods-detail.musinsa.com/goods/3748692/essential\"\n",
    "essential = requests.get(essential_url).content.decode('utf-8')\n",
    "essential = json.loads(essential)\n",
    "print(f\"{essential=}\")\n",
    "\n",
    "essential_url = \"https://goods-detail.musinsa.com/goods/3932869/essential\"\n",
    "essential = requests.get(essential_url).content.decode('utf-8')\n",
    "essential = json.loads(essential)\n",
    "print(f\"{essential=}\")\n"
   ]
  },
  {
   "cell_type": "code",
   "execution_count": 39,
   "id": "1154caf0-eb33-42ef-87cf-2c9982cd72f3",
   "metadata": {},
   "outputs": [
    {
     "name": "stdout",
     "output_type": "stream",
     "text": [
      "actual_size={}\n",
      "actual_size={'data': {'typeName': '반소매티셔츠', 'typeNumber': 5, 'description': '측정 방법에 따라 약 2cm 정도의 오차가 있을 수 있습니다.', 'mobileImage': '//image.musinsa.com/images/size_type/m_detail_img/2023122609382800000023956.png', 'webImage': '//image.musinsa.com/images/size_type/detail_img/2023122609381800000071868.png', 'sizes': [{'name': 'XS', 'items': [{'name': '총장', 'value': 55.0, 'recommendSizeRange': 5}, {'name': '어깨너비', 'value': 37.0, 'recommendSizeRange': 5}, {'name': '가슴단면', 'value': 45.5, 'recommendSizeRange': 5}, {'name': '소매길이', 'value': 18.0, 'recommendSizeRange': 5}]}, {'name': 'S', 'items': [{'name': '총장', 'value': 67.0, 'recommendSizeRange': 5}, {'name': '어깨너비', 'value': 51.0, 'recommendSizeRange': 5}, {'name': '가슴단면', 'value': 54.0, 'recommendSizeRange': 5}, {'name': '소매길이', 'value': 20.0, 'recommendSizeRange': 5}]}, {'name': 'M', 'items': [{'name': '총장', 'value': 69.0, 'recommendSizeRange': 5}, {'name': '어깨너비', 'value': 53.0, 'recommendSizeRange': 5}, {'name': '가슴단면', 'value': 56.0, 'recommendSizeRange': 5}, {'name': '소매길이', 'value': 21.0, 'recommendSizeRange': 5}]}, {'name': 'L', 'items': [{'name': '총장', 'value': 71.0, 'recommendSizeRange': 5}, {'name': '어깨너비', 'value': 55.0, 'recommendSizeRange': 5}, {'name': '가슴단면', 'value': 58.0, 'recommendSizeRange': 5}, {'name': '소매길이', 'value': 22.0, 'recommendSizeRange': 5}]}, {'name': 'XL', 'items': [{'name': '총장', 'value': 73.0, 'recommendSizeRange': 5}, {'name': '어깨너비', 'value': 57.0, 'recommendSizeRange': 5}, {'name': '가슴단면', 'value': 60.0, 'recommendSizeRange': 5}, {'name': '소매길이', 'value': 23.0, 'recommendSizeRange': 5}]}, {'name': 'XXL', 'items': [{'name': '총장', 'value': 75.0, 'recommendSizeRange': 5}, {'name': '어깨너비', 'value': 59.0, 'recommendSizeRange': 5}, {'name': '가슴단면', 'value': 62.0, 'recommendSizeRange': 5}, {'name': '소매길이', 'value': 24.0, 'recommendSizeRange': 5}]}], 'mySize': []}}\n"
     ]
    }
   ],
   "source": [
    "actual_size_url = \"https://goods-detail.musinsa.com/goods/3748692/actual-size\"\n",
    "actual_size = requests.get(actual_size_url).content.decode('utf-8')\n",
    "actual_size = json.loads(actual_size)\n",
    "print(f\"{actual_size=}\")\n",
    "\n",
    "actual_size_url = \"https://goods-detail.musinsa.com/goods/3932869/actual-size\"\n",
    "actual_size = requests.get(actual_size_url).content.decode('utf-8')\n",
    "actual_size = json.loads(actual_size)\n",
    "print(f\"{actual_size=}\")"
   ]
  },
  {
   "cell_type": "code",
   "execution_count": 55,
   "id": "d5fc6525-2c6d-4859-99ee-7a0449d5786d",
   "metadata": {},
   "outputs": [],
   "source": [
    "item_html_url = 'https://www.musinsa.com/app/goods/3932869'\n",
    "item_html_content = requests.get(item_html_url, headers={'User-Agent': USER_AGENT}).content.decode('utf-8')"
   ]
  },
  {
   "cell_type": "code",
   "execution_count": 73,
   "id": "2f58e6b0-87ba-4f1b-b550-35c47a314071",
   "metadata": {},
   "outputs": [
    {
     "data": {
      "text/plain": [
       "<re.Match object; span=(9295, 10965), match='stateAllV2 = {\"goodsNo\":3932869,\"goodsNm\":\"빅 트위치 >"
      ]
     },
     "metadata": {},
     "output_type": "display_data"
    },
    {
     "name": "stdout",
     "output_type": "stream",
     "text": [
      "\n",
      "{\"goodsNo\":3932869,\"goodsNm\":\"빅 트위치 로고 티셔츠 화이트\",\"goodsNmEng\":\"BIG TWITCH LOGO T-SHIRT WHITE\",\"thumbnailImageUrl\":\"\\/images\\/goods_img\\/20240308\\/3932869\\/3932869_17098639041584_500.jpg\",\"headDesc\":\"\",\"styleNo\":\"LE2302ST01WH\",\"sex\":[\"남성\"],\"sexCode\":2,\"brand\":\"lee\",\"brandNm\":\"리\",\"brandNmEng\":\"LEE\",\"seasonYear\":\"\",\"season\":\"\",\"couponDcPrice\":0,\"comId\":\"barrels_lee\",\"specialtyCodes\":[],\"goodsEventType\":\"N\",\"isRestictedUsePoint\":false,\"isClearance\":false,\"isPrePoint\":true,\"isGivenPoint\":true,\"isParallelImport\":false,\"deliveryDueType\":\"NONE\",\"deliveryDuePeriod\":0,\"isLimitedQuantity\":false,\"isLimitedTotalQuantity\":false,\"limitedMaxQuantity\":999,\"limitedMinQuantity\":1,\"isBuyForMember\":false,\"isAppGoods\":false,\"isOfflineGoods\":false,\"isFreeReturn\":false,\"giftCount\":0,\"deliveryDueDay\":null,\"isSalePeriod\":false,\"isSale\":false,\"saleStartDate\":null,\"saleEndDate\":null,\"isSellPeriod\":false,\"sellStartDate\":null,\"sellEndDate\":null,\"maxUsePointRate\":0.070000000000000007,\"goodsTags\":[],\"isVerify\":false,\"isPlusDelivery\":false,\"isRestock\":true,\"isSoonOutOfStock\":false,\"isLimit\":false,\"isMusinsaMonopoly\":false,\"isOnlineMonopoly\":false,\"isFirst\":false,\"isInvitation\":false,\"isMusinsaDirectDelivery\":false,\"isMusinsaOfflineShopStock\":false,\"isIntangibleGoods\":false,\"isExclusiveMusinsaPay\":false,\"isExclusiveMusinsaHyundaiCard\":false,\"isGoodsStatsGraphShow\":true,\"isCumulativePurchaseShow\":true,\"isLimitedDc\":false,\"isLimitedCoupon\":false,\"intangibleGoodsDeliveryType\":\"\",\"baseCategoryFullPath\":\"\",\"category\":{\"categoryDepth1\":\"001\",\"categoryDepth1Title\":\"상의\",\"categoryDepth2\":\"001001\",\"categoryDepth2Title\":\"반소매 티셔츠\",\"categoryDepth3\":\"\",\"categoryDepth3Title\":\"\"}\n"
     ]
    }
   ],
   "source": [
    "#item_html_soup = BeautifulSoup(item_html_content)\n",
    "m = re.search(r\"stateAllV2 = (\\{.*?\\})\", item_html_content)\n",
    "display(m)\n",
    "print()\n",
    "item_info_str = m.group(1)\n",
    "print(item_info_str)\n",
    "#json.loads(item_info_str)"
   ]
  },
  {
   "cell_type": "code",
   "execution_count": null,
   "id": "e9c34a28-4eb8-41eb-a62c-1b381d329a7b",
   "metadata": {},
   "outputs": [],
   "source": []
  },
  {
   "cell_type": "markdown",
   "id": "b1a24fe9-df6d-4e0a-ba79-7b4d11ffd397",
   "metadata": {},
   "source": [
    "## Reviews"
   ]
  },
  {
   "cell_type": "code",
   "execution_count": 74,
   "id": "a00cfd19-985f-4beb-b454-b3c79139c3df",
   "metadata": {},
   "outputs": [],
   "source": [
    "review_url_raw = \"https://goods.musinsa.com/api/goods/v2/review/style/list?similarNo=0&sort=new&selectedSimilarNo=3740621&page=1&goodsNo=3740621&rvck=202403211409&_=1711018303983\"\n",
    "review_url_short = \"https://goods.musinsa.com/api/goods/v2/review/style/list?page=1&goodsNo=3740621\"\n",
    "review_content = requests.get(review_url_short, headers={'User-Agent': USER_AGENT}).content.decode('utf-8')"
   ]
  },
  {
   "cell_type": "code",
   "execution_count": 103,
   "id": "645cd338-ecca-41b2-aed3-4a7bf713f2d1",
   "metadata": {},
   "outputs": [
    {
     "name": "stdout",
     "output_type": "stream",
     "text": [
      "4\n",
      "{'reviewer_name': 'LV.3 엄송은..', 'review_data': '2024.02.17', 'reviewer_profile': '여성 · 173cm · 50kg', 'item_url': 'https://www.musinsa.com/app/goods/3740621/0', 'item_name': '[기모추가] 넘버볼드 후드티_DID_0050', 'item_size': '블랙_DID_0050/M', 'review_list': ['사이즈 보통이에요', '밝기 보통이에요', '색감 보통이에요', '두께감 보통이에요', '배송 빨라요', '포장 꼼꼼해요'], 'review_text': '두께도 딱 적당하고 생각했던 그대로입니다심지어배송도 겁나빨라요bb', 'review_photos': ['//image.msscdn.net/data/estimate/3740621_0/gallery_65d00f8eb4f69.jpg.view']}\n",
      "\n",
      "{'reviewer_name': 'LV.3 Daso1', 'review_data': '2024.02.08', 'reviewer_profile': '여성 · 158cm · 42kg', 'item_url': 'https://www.musinsa.com/app/goods/3740621/0', 'item_name': '[기모추가] 넘버볼드 후드티_DID_0050', 'item_size': '그레이_DID_0050/M', 'review_list': ['사이즈 보통이에요', '밝기 보통이에요', '색감 보통이에요', '두께감 보통이에요', '배송 빨라요', '포장 꼼꼼해요'], 'review_text': '두께도 딱 적당하고 생각했던 그대로입니다심지어배송도 겁나빨라요bb', 'review_photos': ['//image.msscdn.net/data/estimate/3740621_0/gallery_65d00f8eb4f69.jpg.view']}\n",
      "\n",
      "{'reviewer_name': 'LV.5 휸휸휸이린', 'review_data': '1일 전', 'reviewer_profile': '남성 · 173cm · 65kg', 'item_url': 'https://www.musinsa.com/app/goods/3740621/0', 'item_name': '[기모추가] 넘버볼드 후드티_DID_0050', 'item_size': '그레이_DID_0050/L', 'review_list': ['사이즈 보통이에요', '밝기 보통이에요', '색감 보통이에요', '두께감 보통이에요', '배송 빨라요', '포장 꼼꼼해요'], 'review_text': '두께도 딱 적당하고 생각했던 그대로입니다심지어배송도 겁나빨라요bb', 'review_photos': ['//image.msscdn.net/data/estimate/3740621_0/gallery_65d00f8eb4f69.jpg.view']}\n",
      "\n",
      "{'reviewer_name': 'LV.3 설서러섨', 'review_data': '12일 전', 'reviewer_profile': '여성 · 157cm · 45kg', 'item_url': 'https://www.musinsa.com/app/goods/3740621/0', 'item_name': '[기모추가] 넘버볼드 후드티_DID_0050', 'item_size': '그레이_DID_0050/M', 'review_list': ['사이즈 보통이에요', '밝기 보통이에요', '색감 보통이에요', '두께감 보통이에요', '배송 빨라요', '포장 꼼꼼해요'], 'review_text': '두께도 딱 적당하고 생각했던 그대로입니다심지어배송도 겁나빨라요bb', 'review_photos': ['//image.msscdn.net/data/estimate/3740621_0/gallery_65d00f8eb4f69.jpg.view']}\n",
      "\n"
     ]
    }
   ],
   "source": [
    "review_soup = BeautifulSoup(review_content)\n",
    "review_items = review_soup.select(\".review-list-wrap .review-list\")\n",
    "print(len(review_items))\n",
    "for review_item in review_items:\n",
    "    d = {}\n",
    "    d['reviewer_name'] = getattr(review_item.select_one(\".review-profile__name\"), 'text', None)\n",
    "    d['review_data'] = getattr(review_item.select_one(\".review-profile__date\"), 'text', None)\n",
    "    d['reviewer_profile'] = getattr(review_item.select_one(\".review-profile__body_information\"), 'text', None)\n",
    "    ii = review_item.select_one(\".review-goods-information\")\n",
    "    # sanity check\n",
    "    d['item_url'] = (ii.select_one(\".review-goods-information__item a[href]\") or {}).get('href')\n",
    "    d['item_name'] = getattr(ii.select_one(\".review-goods-information__name\"), 'text', None)\n",
    "    d['item_size'] = getattr(ii.select_one(\".review-goods-information__option\"), 'text', \"\").strip() or None\n",
    "\n",
    "    rc = review_soup.select_one(\".review-contents\")\n",
    "    d['review_list'] = []\n",
    "    for rli in rc.select(\".review-evaluation--type3__list .review-evaluation--type3__item\"):\n",
    "        d['review_list'].append(rli.text)\n",
    "    d['review_text'] = getattr(rc.select_one(\".review-contents__text\"), 'text', None)\n",
    "    d['review_photos'] = []\n",
    "    for rpi in rc.select(\".review-content-photo .review-content-photo__list .review-content-photo__item img[src]\"):\n",
    "        d['review_photos'].append(rpi['src'])\n",
    "    print(d)\n",
    "    print()"
   ]
  },
  {
   "cell_type": "code",
   "execution_count": 112,
   "id": "47ef45f4-b1bc-4164-b128-0238d2f637f6",
   "metadata": {},
   "outputs": [
    {
     "name": "stdout",
     "output_type": "stream",
     "text": [
      "1 페이지 중 1 페이지\n",
      "n_review_pages=1\n"
     ]
    }
   ],
   "source": [
    "n_review_pages_txt = getattr(review_soup.select_one(\".nslist_bottom .box_page_msg\"), 'text', \"\").strip() or None\n",
    "n_review_pages = -9999\n",
    "if n_review_pages_txt is not None:\n",
    "    m = re.search(r\"^(\\d+)\\s페이지\\s중\\s\\d+\\s페이지$\", n_review_pages_txt)\n",
    "    if m:\n",
    "        n_review_pages = int(m.group(1))\n",
    "print(n_review_pages_txt)\n",
    "print(f\"{n_review_pages=}\")"
   ]
  },
  {
   "cell_type": "code",
   "execution_count": null,
   "id": "fd79389c-7f0c-4b2a-bcb7-3454afc28e84",
   "metadata": {},
   "outputs": [],
   "source": []
  },
  {
   "cell_type": "code",
   "execution_count": null,
   "id": "b82bfc26-7de8-4272-a2d5-5bca205ea2b0",
   "metadata": {},
   "outputs": [],
   "source": []
  }
 ],
 "metadata": {
  "kernelspec": {
   "display_name": "srs-review-spider",
   "language": "python",
   "name": "srs-review-spider"
  },
  "language_info": {
   "codemirror_mode": {
    "name": "ipython",
    "version": 3
   },
   "file_extension": ".py",
   "mimetype": "text/x-python",
   "name": "python",
   "nbconvert_exporter": "python",
   "pygments_lexer": "ipython3",
   "version": "3.10.12"
  }
 },
 "nbformat": 4,
 "nbformat_minor": 5
}
